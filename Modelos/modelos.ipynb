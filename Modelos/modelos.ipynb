{
 "cells": [
  {
   "cell_type": "markdown",
   "metadata": {},
   "source": [
    "# Carga Train y Test"
   ]
  },
  {
   "cell_type": "code",
   "execution_count": 12,
   "metadata": {},
   "outputs": [],
   "source": [
    "import pandas as pd\n",
    "# Cargar datos de entrenamiento y prueba\n",
    "train_data = pd.read_excel(\"../phishing_train.xlsX\")\n",
    "test_data = pd.read_excel(\"../phishing_test.xlsx\")"
   ]
  },
  {
   "cell_type": "markdown",
   "metadata": {},
   "source": [
    "# Random Forest"
   ]
  },
  {
   "cell_type": "code",
   "execution_count": 14,
   "metadata": {},
   "outputs": [
    {
     "name": "stdout",
     "output_type": "stream",
     "text": [
      "Archivo de envío generado: 'submission.csv'\n"
     ]
    }
   ],
   "source": [
    "import pandas as pd\n",
    "from sklearn.ensemble import RandomForestClassifier\n",
    "from sklearn.preprocessing import OneHotEncoder\n",
    "from sklearn.compose import ColumnTransformer\n",
    "\n",
    "# Separar características (X) y etiquetas (y) en el conjunto de entrenamiento\n",
    "X_train = train_data.drop(columns=['label'])  # Características de entrenamiento\n",
    "y_train = train_data['label']  # Etiquetas de entrenamiento\n",
    "\n",
    "# Convertir todas las columnas categóricas a cadenas (string)\n",
    "X_train = X_train.astype({col: str for col in X_train.select_dtypes(include=['object', 'category']).columns})\n",
    "test_data = test_data.astype({col: str for col in test_data.select_dtypes(include=['object', 'category']).columns})\n",
    "\n",
    "# Identificar columnas categóricas\n",
    "categorical_columns = X_train.select_dtypes(include=['object']).columns\n",
    "\n",
    "# Transformar columnas categóricas con One-Hot Encoding\n",
    "column_transformer = ColumnTransformer(\n",
    "    transformers=[\n",
    "        ('cat', OneHotEncoder(handle_unknown='ignore'), categorical_columns)\n",
    "    ],\n",
    "    remainder='passthrough'  # Mantener las columnas numéricas sin cambios\n",
    ")\n",
    "\n",
    "# Aplicar la transformación al conjunto de entrenamiento y prueba\n",
    "X_train_transformed = column_transformer.fit_transform(X_train)\n",
    "X_test_transformed = column_transformer.transform(test_data)\n",
    "\n",
    "# Entrenar el modelo de Random Forest\n",
    "model = RandomForestClassifier(class_weight='balanced', random_state=42)\n",
    "model.fit(X_train_transformed, y_train)\n",
    "\n",
    "# Predecir probabilidades para los datos de prueba\n",
    "y_proba_test = model.predict_proba(X_test_transformed)[:, 1]\n",
    "\n",
    "# Crear un DataFrame con las columnas 'Id' y 'Probability'\n",
    "submission = pd.DataFrame({\n",
    "    'Id': test_data['Id'],  # Asegurarse de que la columna 'Id' está presente en test_data\n",
    "    'Probability': y_proba_test\n",
    "})\n",
    "\n",
    "# Guardar el archivo de envío en formato CSV\n",
    "submission.to_csv(\"RFsubmission.csv\", index=False)\n",
    "\n",
    "print(\"Archivo de envío generado: 'submission.csv'\")\n"
   ]
  },
  {
   "cell_type": "markdown",
   "metadata": {},
   "source": [
    "# Gradient Boosting"
   ]
  }
 ],
 "metadata": {
  "kernelspec": {
   "display_name": "Python 3",
   "language": "python",
   "name": "python3"
  },
  "language_info": {
   "codemirror_mode": {
    "name": "ipython",
    "version": 3
   },
   "file_extension": ".py",
   "mimetype": "text/x-python",
   "name": "python",
   "nbconvert_exporter": "python",
   "pygments_lexer": "ipython3",
   "version": "3.11.0"
  }
 },
 "nbformat": 4,
 "nbformat_minor": 2
}
